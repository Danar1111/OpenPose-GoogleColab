{
  "nbformat": 4,
  "nbformat_minor": 0,
  "metadata": {
    "colab": {
      "provenance": [],
      "gpuType": "T4",
      "mount_file_id": "173LiolikdWSbMLoqKegO5hcVjPIZRy_5",
      "authorship_tag": "ABX9TyPI9cII+ELnvgr8Gdn3/5gh",
      "include_colab_link": true
    },
    "kernelspec": {
      "name": "python3",
      "display_name": "Python 3"
    },
    "language_info": {
      "name": "python"
    },
    "accelerator": "GPU"
  },
  "cells": [
    {
      "cell_type": "markdown",
      "metadata": {
        "id": "view-in-github",
        "colab_type": "text"
      },
      "source": [
        "<a href=\"https://colab.research.google.com/github/Danar1111/OpenPose-GoogleColab/blob/main/OpenPose_Verif.ipynb\" target=\"_parent\"><img src=\"https://colab.research.google.com/assets/colab-badge.svg\" alt=\"Open In Colab\"/></a>"
      ]
    },
    {
      "cell_type": "code",
      "execution_count": 2,
      "metadata": {
        "colab": {
          "base_uri": "https://localhost:8080/"
        },
        "id": "nclbJXxG2aJO",
        "outputId": "66b56c5a-9d0f-4163-d19c-a1def161c16e"
      },
      "outputs": [
        {
          "output_type": "stream",
          "name": "stdout",
          "text": [
            "./\n"
          ]
        }
      ],
      "source": [
        "import os\n",
        "OPENPOSE_PATH=\"./openpose/\"\n",
        "HOME_PATH='./'\n",
        "\n",
        "!echo $HOME_PATH"
      ]
    },
    {
      "cell_type": "code",
      "source": [
        "#@title\n",
        "!pip install ffmpeg-python\n",
        "from os.path import exists, join, basename, splitext\n",
        "\n",
        "# see: https://github.com/CMU-Perceptual-Computing-Lab/openpose/issues/949\n",
        "# install new CMake becaue of CUDA10\n",
        "!wget -q https://cmake.org/files/v3.17/cmake-3.17.2-Linux-x86_64.tar.gz\n",
        "!tar xfz cmake-3.17.2-Linux-x86_64.tar.gz --strip-components=1 -C /usr/local\n",
        "\n",
        "# install system dependencies\n",
        "!apt-get -qq install -y libatlas-base-dev libprotobuf-dev libleveldb-dev libsnappy-dev libhdf5-serial-dev protobuf-compiler libgflags-dev libgoogle-glog-dev liblmdb-dev opencl-headers ocl-icd-opencl-dev libviennacl-dev\n",
        "\n",
        "git_repo_url = 'https://github.com/CMU-Perceptual-Computing-Lab/openpose.git'\n",
        "project_name = splitext(basename(git_repo_url))[0]\n",
        "!rm -rf openpose\n",
        "# clone openpose\n",
        "!git clone -q --depth 1 $git_repo_url\n",
        "# --recursive necessary in the line below, as otherwise you can (sometimes) get \"lpthreads\" errors in cmake (\"undefined reference to `pthread_create'\" etc). See, for example, https://github.com/facebookarchive/caffe2/issues/1234\n",
        "!sed -i 's/execute_process(COMMAND git checkout --recursive master WORKING_DIRECTORY ${CMAKE_SOURCE_DIR}\\/3rdparty\\/caffe)/execute_process(COMMAND git checkout f019d0dfe86f49d1140961f8c7dec22130c83154 WORKING_DIRECTORY ${CMAKE_SOURCE_DIR}\\/3rdparty\\/caffe)/g' openpose/CMakeLists.txt\n",
        "!cd openpose && git submodule update --init --recursive --remote\n",
        "\n",
        "!wget \"https://drive.usercontent.google.com/download?id=1QCSxJZpnWvM00hx49CJ2zky7PWGzpcEh&export=download&authuser=0&confirm=t&uuid=50355e54-0445-4875-9d0e-3866a1f6239d&at=APZUnTVA3sHsK5rk-u2O6phIms2L%3A1711987634035\" -O models.zip\n",
        "\n",
        "# !cp \"/content/drive/MyDrive/VTO/openpose/models.zip\" \"/content/\"\n",
        "!unzip models.zip -d openpose"
      ],
      "metadata": {
        "id": "-iVkqdBG2jAt"
      },
      "execution_count": null,
      "outputs": []
    },
    {
      "cell_type": "code",
      "source": [
        "! sed -i 's/executeShInItsFolder \"getModels.sh\"/# executeShInItsFolder \"getModels.sh\"/g' ./openpose/scripts/ubuntu/install_openpose_JetsonTX2_JetPack3.1.sh\n",
        "! sed -i 's/executeShInItsFolder \"getModels.sh\"/# executeShInItsFolder \"getModels.sh\"/g' ./openpose/scripts/ubuntu/install_openpose_JetsonTX2_JetPack3.3.sh\n",
        "! sed -i 's/download_model(\"BODY_25\"/# download_model(\"BODY_25\"/g' ./openpose/CMakeLists.txt\n",
        "! sed -i 's/78287B57CF85FA89C03F1393D368E5B7/# 78287B57CF85FA89C03F1393D368E5B7/g' ./openpose/CMakeLists.txt\n",
        "! sed -i 's/download_model(\"body (COCO)\"/# download_model(\"body (COCO)\"/g' ./openpose/CMakeLists.txt\n",
        "! sed -i 's/5156d31f670511fce9b4e28b403f2939/# 5156d31f670511fce9b4e28b403f2939/g' ./openpose/CMakeLists.txt\n",
        "! sed -i 's/download_model(\"body (MPI)\"/# download_model(\"body (MPI)\"/g' ./openpose/CMakeLists.txt\n",
        "! sed -i 's/2ca0990c7562bd7ae03f3f54afa96e00/# 2ca0990c7562bd7ae03f3f54afa96e00/g' ./openpose/CMakeLists.txt\n",
        "! sed -i 's/download_model(\"face\"/# download_model(\"face\"/g' ./openpose/CMakeLists.txt\n",
        "! sed -i 's/e747180d728fa4e4418c465828384333/# e747180d728fa4e4418c465828384333/g' ./openpose/CMakeLists.txt\n",
        "! sed -i 's/download_model(\"hand\"/# download_model(\"hand\"/g' ./openpose/CMakeLists.txt\n",
        "! sed -i 's/a82cfc3fea7c62f159e11bd3674c1531/# a82cfc3fea7c62f159e11bd3674c1531/g' ./openpose/CMakeLists.txt"
      ],
      "metadata": {
        "id": "tl9jX19T2lch"
      },
      "execution_count": 4,
      "outputs": []
    },
    {
      "cell_type": "code",
      "source": [
        "!cd openpose && rm -rf build || true && mkdir build"
      ],
      "metadata": {
        "id": "phpSz9F32qGk"
      },
      "execution_count": 5,
      "outputs": []
    },
    {
      "cell_type": "code",
      "source": [
        "cmake_file='/content/openpose/CMakeLists.txt'\n",
        "!cd openpose && sed -i 's/-DBUILD_python=OFF/-DBUILD_python=ON/g' $cmake_file\n",
        "!cd openpose && sed -i 's/-DBUILD_python_layer=OFF/-DBUILD_python_layer=ON/g' $cmake_file\n",
        "\n",
        "!cd openpose && sed -i 's/option(BUILD_PYTHON \"Build OpenPose python.\" OFF)/option(BUILD_PYTHON \"OpenPose python.\" ON)\\noption(BUILD_BIN_FOLDER \"Copy 3rd-party DLL files.\" ON)/g' $cmake_file"
      ],
      "metadata": {
        "id": "mYpwIAc52sR4"
      },
      "execution_count": 6,
      "outputs": []
    },
    {
      "cell_type": "code",
      "source": [
        "!cd openpose && cd build && cmake .. -DUSE_CUDNN=OFF -DGENERATE_PYTHON_BINDINGS:BOOL=\"1\" -DPYTHON_LIBRARY='/usr/lib/x86_64-linux-gnu/libpython3.10.so' && make -j`nproc`"
      ],
      "metadata": {
        "id": "YLPH3T-v2wTZ"
      },
      "execution_count": null,
      "outputs": []
    },
    {
      "cell_type": "markdown",
      "source": [
        "# kalau error dan build belum 100 persen, jalankan kode dibawah, install python 9 , dan lakukan build ulang"
      ],
      "metadata": {
        "id": "TXkyUBSIDxvr"
      }
    },
    {
      "cell_type": "code",
      "source": [
        "# Install Python 3.9\n",
        "!sudo apt-get update -y\n",
        "!sudo apt-get install python3.9 python3.9-dev python3.9-distutils -y\n",
        "\n",
        "# Ganti symbolic link agar default Python menjadi Python 3.9\n",
        "!sudo update-alternatives --install /usr/bin/python3 python3 /usr/bin/python3.9 1\n",
        "!sudo update-alternatives --config python3\n",
        "\n",
        "# Install pip untuk Python 3.9\n",
        "!curl -sS https://bootstrap.pypa.io/get-pip.py | python3.9"
      ],
      "metadata": {
        "id": "zdeDS51p8cwH"
      },
      "execution_count": null,
      "outputs": []
    },
    {
      "cell_type": "code",
      "source": [
        "!mkdir images"
      ],
      "metadata": {
        "id": "iEAM3DeV2zmT"
      },
      "execution_count": null,
      "outputs": []
    },
    {
      "cell_type": "code",
      "source": [
        "!cd \"$OPENPOSE_PATH\" && chmod -R 755 ./build/\n",
        "!cd \"$OPENPOSE_PATH\" && ./build/examples/openpose/openpose.bin \\\n",
        "  --image_dir ../images \\\n",
        "  --write_images ../output_images/ \\\n",
        "  --face --hand --display 0 --render_pose 1"
      ],
      "metadata": {
        "id": "mxeqkJcj21R4"
      },
      "execution_count": null,
      "outputs": []
    },
    {
      "cell_type": "code",
      "source": [
        "# Import library\n",
        "import os\n",
        "import cv2\n",
        "import numpy as np\n",
        "import subprocess\n",
        "import matplotlib.pyplot as plt\n",
        "from google.colab.patches import cv2_imshow\n",
        "from google.colab import files\n",
        "\n",
        "# Upload gambar ke Colab\n",
        "print(\"Silakan upload gambar untuk diproses...\")\n",
        "uploaded = files.upload()\n",
        "\n",
        "# Ambil nama file yang di-upload\n",
        "input_image = list(uploaded.keys())[0]\n",
        "\n",
        "# Tentukan path untuk OpenPose dan output\n",
        "openpose_path = \"/content/openpose\"\n",
        "image_dir = \"/content/images\"\n",
        "output_dir = f\"{openpose_path}/output_images\"\n",
        "\n",
        "# Pastikan folder images dan output ada\n",
        "os.makedirs(image_dir, exist_ok=True)\n",
        "os.makedirs(output_dir, exist_ok=True)\n",
        "\n",
        "# Pindahkan gambar ke folder images/\n",
        "input_image_path = os.path.join(image_dir, input_image)\n",
        "os.rename(input_image, input_image_path)\n",
        "\n",
        "# Menentukan nama output sesuai format OpenPose\n",
        "# Misalnya: \"gambar.jpg\" → \"gambar_rendered.jpg\"\n",
        "file_name, file_ext = os.path.splitext(input_image)\n",
        "output_image_name = f\"{file_name}_rendered.png\"\n",
        "output_image_path = os.path.join(output_dir, output_image_name)\n",
        "\n",
        "# Jalankan OpenPose untuk mendeteksi pose\n",
        "cmd = f\"\"\"\n",
        "cd {openpose_path} && ./build/examples/openpose/openpose.bin \\\n",
        "    --image_dir {image_dir} \\\n",
        "    --write_images {output_dir} \\\n",
        "    --display 0 --render_pose 1\n",
        "\"\"\"\n",
        "\n",
        "print(\"Memproses gambar dengan OpenPose...\")\n",
        "result = subprocess.run(cmd, shell=True, capture_output=True, text=True)\n",
        "\n",
        "# Jika ada error, tampilkan log\n",
        "if result.returncode != 0:\n",
        "    print(\"Terjadi kesalahan saat menjalankan OpenPose!\")\n",
        "    print(result.stderr)\n",
        "else:\n",
        "    print(\"Proses selesai!\")\n",
        "\n",
        "# Cek hasilnya dan langsung tampilkan gambar dengan nama yang benar\n",
        "if os.path.exists(output_image_path):\n",
        "    img = cv2.imread(output_image_path)\n",
        "    img = cv2.cvtColor(img, cv2.COLOR_BGR2RGB)\n",
        "\n",
        "    plt.figure(figsize=(8, 6))\n",
        "    plt.imshow(img)\n",
        "    plt.axis(\"off\")\n",
        "    plt.title(\"Hasil OpenPose\")\n",
        "    plt.show()\n",
        "else:\n",
        "    print(f\"Gagal menemukan gambar output: {output_image_path}. Coba cek folder output_images secara manual.\")\n"
      ],
      "metadata": {
        "id": "30VpOn7IA8f8"
      },
      "execution_count": null,
      "outputs": []
    }
  ]
}